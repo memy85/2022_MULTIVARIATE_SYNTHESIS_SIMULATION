{
 "cells": [
  {
   "cell_type": "code",
   "execution_count": 1,
   "metadata": {},
   "outputs": [],
   "source": [
    "import pandas as pd\n",
    "import numpy as np\n",
    "import os, sys\n",
    "\n",
    "sys.path.append('../')\n",
    "from syndp.utils import preprocessing "
   ]
  },
  {
   "cell_type": "code",
   "execution_count": 2,
   "metadata": {},
   "outputs": [
    {
     "data": {
      "text/html": [
       "<div>\n",
       "<style scoped>\n",
       "    .dataframe tbody tr th:only-of-type {\n",
       "        vertical-align: middle;\n",
       "    }\n",
       "\n",
       "    .dataframe tbody tr th {\n",
       "        vertical-align: top;\n",
       "    }\n",
       "\n",
       "    .dataframe thead th {\n",
       "        text-align: right;\n",
       "    }\n",
       "</style>\n",
       "<table border=\"1\" class=\"dataframe\">\n",
       "  <thead>\n",
       "    <tr style=\"text-align: right;\">\n",
       "      <th></th>\n",
       "      <th>ID</th>\n",
       "      <th>SEX</th>\n",
       "      <th>AGE</th>\n",
       "      <th>HR</th>\n",
       "      <th>CANCER_SEVERITY</th>\n",
       "      <th>MED_STATUS</th>\n",
       "    </tr>\n",
       "  </thead>\n",
       "  <tbody>\n",
       "    <tr>\n",
       "      <th>0</th>\n",
       "      <td>1</td>\n",
       "      <td>0</td>\n",
       "      <td>54.197152</td>\n",
       "      <td>88</td>\n",
       "      <td>1</td>\n",
       "      <td>D</td>\n",
       "    </tr>\n",
       "    <tr>\n",
       "      <th>1</th>\n",
       "      <td>2</td>\n",
       "      <td>0</td>\n",
       "      <td>51.961675</td>\n",
       "      <td>85</td>\n",
       "      <td>0</td>\n",
       "      <td>B</td>\n",
       "    </tr>\n",
       "    <tr>\n",
       "      <th>2</th>\n",
       "      <td>3</td>\n",
       "      <td>0</td>\n",
       "      <td>52.889855</td>\n",
       "      <td>48</td>\n",
       "      <td>2</td>\n",
       "      <td>D</td>\n",
       "    </tr>\n",
       "    <tr>\n",
       "      <th>3</th>\n",
       "      <td>4</td>\n",
       "      <td>1</td>\n",
       "      <td>54.665618</td>\n",
       "      <td>96</td>\n",
       "      <td>0</td>\n",
       "      <td>D</td>\n",
       "    </tr>\n",
       "    <tr>\n",
       "      <th>4</th>\n",
       "      <td>5</td>\n",
       "      <td>0</td>\n",
       "      <td>54.028897</td>\n",
       "      <td>65</td>\n",
       "      <td>0</td>\n",
       "      <td>D</td>\n",
       "    </tr>\n",
       "  </tbody>\n",
       "</table>\n",
       "</div>"
      ],
      "text/plain": [
       "   ID  SEX        AGE  HR  CANCER_SEVERITY MED_STATUS\n",
       "0   1    0  54.197152  88                1          D\n",
       "1   2    0  51.961675  85                0          B\n",
       "2   3    0  52.889855  48                2          D\n",
       "3   4    1  54.665618  96                0          D\n",
       "4   5    0  54.028897  65                0          D"
      ]
     },
     "execution_count": 2,
     "metadata": {},
     "output_type": "execute_result"
    }
   ],
   "source": [
    "toy_data = pd.DataFrame({\n",
    "    \"ID\": [x for x in range(1,101)],\n",
    "    \"SEX\":np.random.choice(range(0,2), 100, p=[0.6, 0.4], replace=True),\n",
    "    \"AGE\":np.random.normal(51, 2, size=100),\n",
    "    \"HR\" : np.random.random_integers(40,100, 100),\n",
    "    \"CANCER_SEVERITY\":np.random.choice(range(0,3), 100, p=[0.7,0.2,0.1], replace=True),\n",
    "    \"MED_STATUS\" : np.random.choice(['A','B','C','D'], 100, p = [0.1,0.3,0.2,0.4], replace=True)\n",
    "})\n",
    "\n",
    "toy_data.head()"
   ]
  },
  {
   "cell_type": "code",
   "execution_count": 5,
   "metadata": {},
   "outputs": [
    {
     "data": {
      "text/html": [
       "<div>\n",
       "<style scoped>\n",
       "    .dataframe tbody tr th:only-of-type {\n",
       "        vertical-align: middle;\n",
       "    }\n",
       "\n",
       "    .dataframe tbody tr th {\n",
       "        vertical-align: top;\n",
       "    }\n",
       "\n",
       "    .dataframe thead th {\n",
       "        text-align: right;\n",
       "    }\n",
       "</style>\n",
       "<table border=\"1\" class=\"dataframe\">\n",
       "  <thead>\n",
       "    <tr style=\"text-align: right;\">\n",
       "      <th></th>\n",
       "      <th>ID</th>\n",
       "      <th>AGE</th>\n",
       "      <th>HR</th>\n",
       "      <th>SEX-0</th>\n",
       "      <th>SEX-1</th>\n",
       "      <th>CANCER_SEVERITY-0</th>\n",
       "      <th>CANCER_SEVERITY-1</th>\n",
       "      <th>CANCER_SEVERITY-2</th>\n",
       "      <th>MED_STATUS-A</th>\n",
       "      <th>MED_STATUS-B</th>\n",
       "      <th>MED_STATUS-C</th>\n",
       "      <th>MED_STATUS-D</th>\n",
       "    </tr>\n",
       "  </thead>\n",
       "  <tbody>\n",
       "    <tr>\n",
       "      <th>0</th>\n",
       "      <td>1</td>\n",
       "      <td>54.197152</td>\n",
       "      <td>88</td>\n",
       "      <td>1</td>\n",
       "      <td>0</td>\n",
       "      <td>0</td>\n",
       "      <td>1</td>\n",
       "      <td>0</td>\n",
       "      <td>0</td>\n",
       "      <td>0</td>\n",
       "      <td>0</td>\n",
       "      <td>1</td>\n",
       "    </tr>\n",
       "    <tr>\n",
       "      <th>1</th>\n",
       "      <td>2</td>\n",
       "      <td>51.961675</td>\n",
       "      <td>85</td>\n",
       "      <td>1</td>\n",
       "      <td>0</td>\n",
       "      <td>1</td>\n",
       "      <td>0</td>\n",
       "      <td>0</td>\n",
       "      <td>0</td>\n",
       "      <td>1</td>\n",
       "      <td>0</td>\n",
       "      <td>0</td>\n",
       "    </tr>\n",
       "    <tr>\n",
       "      <th>2</th>\n",
       "      <td>3</td>\n",
       "      <td>52.889855</td>\n",
       "      <td>48</td>\n",
       "      <td>1</td>\n",
       "      <td>0</td>\n",
       "      <td>0</td>\n",
       "      <td>0</td>\n",
       "      <td>1</td>\n",
       "      <td>0</td>\n",
       "      <td>0</td>\n",
       "      <td>0</td>\n",
       "      <td>1</td>\n",
       "    </tr>\n",
       "    <tr>\n",
       "      <th>3</th>\n",
       "      <td>4</td>\n",
       "      <td>54.665618</td>\n",
       "      <td>96</td>\n",
       "      <td>0</td>\n",
       "      <td>1</td>\n",
       "      <td>1</td>\n",
       "      <td>0</td>\n",
       "      <td>0</td>\n",
       "      <td>0</td>\n",
       "      <td>0</td>\n",
       "      <td>0</td>\n",
       "      <td>1</td>\n",
       "    </tr>\n",
       "    <tr>\n",
       "      <th>4</th>\n",
       "      <td>5</td>\n",
       "      <td>54.028897</td>\n",
       "      <td>65</td>\n",
       "      <td>1</td>\n",
       "      <td>0</td>\n",
       "      <td>1</td>\n",
       "      <td>0</td>\n",
       "      <td>0</td>\n",
       "      <td>0</td>\n",
       "      <td>0</td>\n",
       "      <td>0</td>\n",
       "      <td>1</td>\n",
       "    </tr>\n",
       "  </tbody>\n",
       "</table>\n",
       "</div>"
      ],
      "text/plain": [
       "   ID        AGE  HR  SEX-0  SEX-1  CANCER_SEVERITY-0  CANCER_SEVERITY-1  \\\n",
       "0   1  54.197152  88      1      0                  0                  1   \n",
       "1   2  51.961675  85      1      0                  1                  0   \n",
       "2   3  52.889855  48      1      0                  0                  0   \n",
       "3   4  54.665618  96      0      1                  1                  0   \n",
       "4   5  54.028897  65      1      0                  1                  0   \n",
       "\n",
       "   CANCER_SEVERITY-2  MED_STATUS-A  MED_STATUS-B  MED_STATUS-C  MED_STATUS-D  \n",
       "0                  0             0             0             0             1  \n",
       "1                  0             0             1             0             0  \n",
       "2                  1             0             0             0             1  \n",
       "3                  0             0             0             0             1  \n",
       "4                  0             0             0             0             1  "
      ]
     },
     "execution_count": 5,
     "metadata": {},
     "output_type": "execute_result"
    }
   ],
   "source": [
    "dummified = preprocessing.dummify(toy_data, [\"SEX\",'CANCER_SEVERITY','MED_STATUS'], prefix_separator=\"-\")\n",
    "\n",
    "dummified.head()"
   ]
  },
  {
   "cell_type": "code",
   "execution_count": 18,
   "metadata": {},
   "outputs": [],
   "source": [
    "A = dummified.loc[:,\"AGE\":].cov().to_numpy()"
   ]
  },
  {
   "cell_type": "markdown",
   "metadata": {},
   "source": [
    "$ A * x = Covariance~Matrix$,\\\n",
    "then $x = A^{-1} * Covariance~Matrix$, \\\n",
    "Since $A$ may not have a inverse matrix, we may calculate a pseudo inverse matrix.\n",
    "\n",
    "$x = ((A.T)*A)^{-1}*A.T * Covariance~Matrix$"
   ]
  },
  {
   "cell_type": "code",
   "execution_count": 34,
   "metadata": {},
   "outputs": [],
   "source": [
    "cov = dummified.loc[:,'AGE':].cov().to_numpy()"
   ]
  },
  {
   "cell_type": "code",
   "execution_count": 25,
   "metadata": {},
   "outputs": [
    {
     "data": {
      "text/plain": [
       "(100, 11)"
      ]
     },
     "execution_count": 25,
     "metadata": {},
     "output_type": "execute_result"
    }
   ],
   "source": [
    "A = dummified.loc[:,'AGE':].to_numpy()\n",
    "\n",
    "A.shape"
   ]
  },
  {
   "cell_type": "code",
   "execution_count": 36,
   "metadata": {},
   "outputs": [
    {
     "data": {
      "text/plain": [
       "(11, 100)"
      ]
     },
     "execution_count": 36,
     "metadata": {},
     "output_type": "execute_result"
    }
   ],
   "source": [
    "pseudo_inverse = np.linalg.inv((A.T@A))\n",
    "\n",
    "(pseudo_inverse @ A.T).shape"
   ]
  },
  {
   "cell_type": "code",
   "execution_count": null,
   "metadata": {},
   "outputs": [],
   "source": []
  }
 ],
 "metadata": {
  "interpreter": {
   "hash": "760d78efc602825e6ad27c6908d1a97ec4ff8733e8f2068a4bf4a48c7196717d"
  },
  "kernelspec": {
   "display_name": "Python 3.8.12 64-bit ('2022_multivariate_synthesis_simulation')",
   "language": "python",
   "name": "python3"
  },
  "language_info": {
   "codemirror_mode": {
    "name": "ipython",
    "version": 3
   },
   "file_extension": ".py",
   "mimetype": "text/x-python",
   "name": "python",
   "nbconvert_exporter": "python",
   "pygments_lexer": "ipython3",
   "version": "3.8.12"
  },
  "orig_nbformat": 4
 },
 "nbformat": 4,
 "nbformat_minor": 2
}
