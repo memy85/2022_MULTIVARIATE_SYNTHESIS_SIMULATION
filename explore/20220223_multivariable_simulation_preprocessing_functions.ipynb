{
 "cells": [
  {
   "cell_type": "markdown",
   "metadata": {},
   "source": [
    "# Mulitvariable Synthesis Simulation\n",
    "- make toy data with continuous and categorical data\n",
    "\n",
    "\n",
    "## Testing\n",
    "- Categorical - Categorical \n",
    "- Categorical - Numerical \n",
    "- Numerical - Numerical\n",
    "\n",
    "먼저 2개의 변수에 대해서 분석한다."
   ]
  },
  {
   "cell_type": "code",
   "execution_count": 2,
   "metadata": {},
   "outputs": [],
   "source": [
    "import numpy as np\n",
    "import pandas as pd\n",
    "import os, sys\n",
    "from pathlib import Path"
   ]
  },
  {
   "cell_type": "code",
   "execution_count": 3,
   "metadata": {},
   "outputs": [],
   "source": [
    "PROJECT_PATH = Path().cwd().parent\n",
    "DATA_PATH = PROJECT_PATH.joinpath('data/processed')"
   ]
  },
  {
   "cell_type": "code",
   "execution_count": 4,
   "metadata": {},
   "outputs": [
    {
     "data": {
      "text/html": [
       "<div>\n",
       "<style scoped>\n",
       "    .dataframe tbody tr th:only-of-type {\n",
       "        vertical-align: middle;\n",
       "    }\n",
       "\n",
       "    .dataframe tbody tr th {\n",
       "        vertical-align: top;\n",
       "    }\n",
       "\n",
       "    .dataframe thead th {\n",
       "        text-align: right;\n",
       "    }\n",
       "</style>\n",
       "<table border=\"1\" class=\"dataframe\">\n",
       "  <thead>\n",
       "    <tr style=\"text-align: right;\">\n",
       "      <th></th>\n",
       "      <th>ID</th>\n",
       "      <th>SEX</th>\n",
       "      <th>AGE</th>\n",
       "      <th>HR</th>\n",
       "      <th>CANCER_SEVERITY</th>\n",
       "      <th>MED_STATUS</th>\n",
       "    </tr>\n",
       "  </thead>\n",
       "  <tbody>\n",
       "    <tr>\n",
       "      <th>0</th>\n",
       "      <td>1</td>\n",
       "      <td>1</td>\n",
       "      <td>51.774304</td>\n",
       "      <td>95</td>\n",
       "      <td>0</td>\n",
       "      <td>D</td>\n",
       "    </tr>\n",
       "    <tr>\n",
       "      <th>1</th>\n",
       "      <td>2</td>\n",
       "      <td>1</td>\n",
       "      <td>53.284400</td>\n",
       "      <td>78</td>\n",
       "      <td>0</td>\n",
       "      <td>B</td>\n",
       "    </tr>\n",
       "    <tr>\n",
       "      <th>2</th>\n",
       "      <td>3</td>\n",
       "      <td>0</td>\n",
       "      <td>50.777864</td>\n",
       "      <td>74</td>\n",
       "      <td>1</td>\n",
       "      <td>B</td>\n",
       "    </tr>\n",
       "    <tr>\n",
       "      <th>3</th>\n",
       "      <td>4</td>\n",
       "      <td>1</td>\n",
       "      <td>47.253403</td>\n",
       "      <td>84</td>\n",
       "      <td>0</td>\n",
       "      <td>B</td>\n",
       "    </tr>\n",
       "    <tr>\n",
       "      <th>4</th>\n",
       "      <td>5</td>\n",
       "      <td>0</td>\n",
       "      <td>50.353262</td>\n",
       "      <td>87</td>\n",
       "      <td>0</td>\n",
       "      <td>C</td>\n",
       "    </tr>\n",
       "  </tbody>\n",
       "</table>\n",
       "</div>"
      ],
      "text/plain": [
       "   ID  SEX        AGE  HR  CANCER_SEVERITY MED_STATUS\n",
       "0   1    1  51.774304  95                0          D\n",
       "1   2    1  53.284400  78                0          B\n",
       "2   3    0  50.777864  74                1          B\n",
       "3   4    1  47.253403  84                0          B\n",
       "4   5    0  50.353262  87                0          C"
      ]
     },
     "execution_count": 4,
     "metadata": {},
     "output_type": "execute_result"
    }
   ],
   "source": [
    "toy_data = pd.DataFrame({\n",
    "    \"ID\": [x for x in range(1,101)],\n",
    "    \"SEX\":np.random.choice(range(0,2), 100, p=[0.6, 0.4], replace=True),\n",
    "    \"AGE\":np.random.normal(51, 2, size=100),\n",
    "    \"HR\" : np.random.random_integers(40,100, 100),\n",
    "    \"CANCER_SEVERITY\":np.random.choice(range(0,3), 100, p=[0.7,0.2,0.1], replace=True),\n",
    "    \"MED_STATUS\" : np.random.choice(['A','B','C','D'], 100, p = [0.1,0.3,0.2,0.4], replace=True)\n",
    "})\n",
    "\n",
    "toy_data.head()"
   ]
  },
  {
   "cell_type": "markdown",
   "metadata": {},
   "source": [
    "Make toy data"
   ]
  },
  {
   "cell_type": "code",
   "execution_count": 5,
   "metadata": {},
   "outputs": [
    {
     "data": {
      "text/plain": [
       "<AxesSubplot:>"
      ]
     },
     "execution_count": 5,
     "metadata": {},
     "output_type": "execute_result"
    },
    {
     "data": {
      "image/png": "[encoded data removed]",
      "text/plain": [
       "<Figure size 432x288 with 1 Axes>"
      ]
     },
     "metadata": {
      "needs_background": "light"
     },
     "output_type": "display_data"
    }
   ],
   "source": [
    "toy_data.SEX.hist()"
   ]
  },
  {
   "cell_type": "code",
   "execution_count": 6,
   "metadata": {},
   "outputs": [
    {
     "data": {
      "text/plain": [
       "<AxesSubplot:>"
      ]
     },
     "execution_count": 6,
     "metadata": {},
     "output_type": "execute_result"
    },
    {
     "data": {
      "image/png": "[encoded data removed]",
      "text/plain": [
       "<Figure size 432x288 with 1 Axes>"
      ]
     },
     "metadata": {
      "needs_background": "light"
     },
     "output_type": "display_data"
    }
   ],
   "source": [
    "toy_data.AGE.hist()"
   ]
  },
  {
   "cell_type": "code",
   "execution_count": 7,
   "metadata": {},
   "outputs": [
    {
     "data": {
      "text/plain": [
       "<AxesSubplot:>"
      ]
     },
     "execution_count": 7,
     "metadata": {},
     "output_type": "execute_result"
    },
    {
     "data": {
      "image/png": "[encoded data removed]",
      "text/plain": [
       "<Figure size 432x288 with 1 Axes>"
      ]
     },
     "metadata": {
      "needs_background": "light"
     },
     "output_type": "display_data"
    }
   ],
   "source": [
    "toy_data.CANCER_SEVERITY.hist()"
   ]
  },
  {
   "cell_type": "code",
   "execution_count": 8,
   "metadata": {},
   "outputs": [
    {
     "data": {
      "text/plain": [
       "<AxesSubplot:>"
      ]
     },
     "execution_count": 8,
     "metadata": {},
     "output_type": "execute_result"
    },
    {
     "data": {
      "image/png": "[encoded data removed]",
      "text/plain": [
       "<Figure size 432x288 with 1 Axes>"
      ]
     },
     "metadata": {
      "needs_background": "light"
     },
     "output_type": "display_data"
    }
   ],
   "source": [
    "toy_data.MED_STATUS.hist()"
   ]
  },
  {
   "cell_type": "markdown",
   "metadata": {},
   "source": [
    "TGAN - which is an article wrote for tabular data synthesis - writes that before they synthesized the dataset, scaling preprocessing was implemented. Thus, here we will apply preprocessing.\n",
    "\n",
    "1. first we apply one hot encoding and scaling utility for Syndp"
   ]
  },
  {
   "cell_type": "code",
   "execution_count": 21,
   "metadata": {},
   "outputs": [
    {
     "name": "stdout",
     "output_type": "stream",
     "text": [
      "Overwriting ../syndp/utils/preprocessing.py\n"
     ]
    }
   ],
   "source": [
    "%%writefile ../syndp/utils/preprocessing.py\n",
    "\n",
    "from sklearn.preprocessing import MinMaxScaler\n",
    "import pandas as pd\n",
    "\n",
    "def dummify(data : pd.DataFrame, columns= None, prefix_separator = \"-\"):\n",
    "    '''\n",
    "    dummifing function\n",
    "    data : original data with categorical and continuous variables\n",
    "    prefix_sep  mostly uses '_' as prefix separator. Can be modified\n",
    "    columns : list of columns that are categorical\n",
    "    '''\n",
    "    excluded_variables = [continuous for continuous in data.columns if continuous not in columns]\n",
    "    data1 = data[excluded_variables].copy() # we will concat this data with the dummified data\n",
    "    \n",
    "    list_of_series = [data[cols] for cols in columns]\n",
    "    dummified = list(map(lambda x, y : pd.get_dummies(data=y, prefix=x, prefix_sep=prefix_separator), columns, list_of_series))\n",
    "    \n",
    "    dummified = pd.concat([data1, *dummified], axis=1)\n",
    "    \n",
    "    return dummified\n",
    "\n",
    "\n",
    "def undummify(data :pd.DataFrame, columns :list, prefix_separator=\"-\"):\n",
    "    '''\n",
    "    This function changes tabular data's categorical variable's one-hot dummy encoding to the original form\n",
    "    data : original tabular data\n",
    "    columns : a list of names of categorical values\n",
    "    prefix_sep : prefix separator. Mostly is \"-\"\n",
    "    '''\n",
    "    # cols2collapse = {\n",
    "    #     item.split(prefix_separator)[0]: (prefix_separator in item) for item in data.columns\n",
    "    # }\n",
    "    \n",
    "    continuous_list = [cont for cont in data.columns if cont.split(prefix_separator)[0] not in columns]\n",
    "    data1 = data[continuous_list].copy() # data to concat later\n",
    "\n",
    "    undummified_list  = []\n",
    "    for col in columns:\n",
    "        undummified = data.filter(like=col).idxmax(axis=1).apply(lambda x : x.split(prefix_separator, maxsplit=1)[1]).rename(col)\n",
    "        undummified_list.append(undummified) \n",
    "    \n",
    "    recovered_data = pd.concat([data1, *undummified_list], axis=1)\n",
    "    return recovered_data\n",
    "\n",
    "\n",
    "\n",
    "def do_scaling(data : pd.DataFrame, columns : list):\n",
    "    '''\n",
    "    scaling function for continous variable. \n",
    "    This function returns the scaled data and the scaler itself for future use.\n",
    "    data : the data you want to change\n",
    "    columns : continuous columns\n",
    "    '''\n",
    "    scaler = MinMaxScaler(feature_range=(-1,1))\n",
    "    not_scaling_columns = [cols for cols in data.columns if cols not in columns ]\n",
    "    data1 = data[not_scaling_columns].copy()\n",
    "    \n",
    "    scaler.fit(data[columns].copy())\n",
    "    scaled = scaler.transform(data[columns].copy())\n",
    "    scaled= pd.DataFrame(scaled, columns=columns)\n",
    "    \n",
    "    scaled_data = pd.concat([scaled,data1], axis=1)\n",
    "    return scaled_data, scaler\n",
    "\n",
    "\n",
    "def reverse_scaling(data : pd.DataFrame, columns : list, scaler : MinMaxScaler):\n",
    "    '''\n",
    "    reverse the scaled data to original form\n",
    "    data : scaled data\n",
    "    columns : continuous columns - should be the same as the original scaling process\n",
    "    scaler : Minmax scaler from do_scaling function\n",
    "    '''\n",
    "    excluded_cols = [col for col in data.columns if col not in columns]\n",
    "    \n",
    "    data1 = data[excluded_cols].copy()\n",
    "    inversed = scaler.inverse_transform(data[columns])\n",
    "    inversed = pd.DataFrame(inversed, columns=columns)\n",
    "    \n",
    "    reversed_data = pd.concat([data1, inversed], axis=1)\n",
    "    return reversed_data"
   ]
  },
  {
   "cell_type": "code",
   "execution_count": 18,
   "metadata": {},
   "outputs": [
    {
     "data": {
      "text/html": [
       "<div>\n",
       "<style scoped>\n",
       "    .dataframe tbody tr th:only-of-type {\n",
       "        vertical-align: middle;\n",
       "    }\n",
       "\n",
       "    .dataframe tbody tr th {\n",
       "        vertical-align: top;\n",
       "    }\n",
       "\n",
       "    .dataframe thead th {\n",
       "        text-align: right;\n",
       "    }\n",
       "</style>\n",
       "<table border=\"1\" class=\"dataframe\">\n",
       "  <thead>\n",
       "    <tr style=\"text-align: right;\">\n",
       "      <th></th>\n",
       "      <th>ID</th>\n",
       "      <th>AGE</th>\n",
       "      <th>HR</th>\n",
       "      <th>SEX-0</th>\n",
       "      <th>SEX-1</th>\n",
       "      <th>MED_STATUS-A</th>\n",
       "      <th>MED_STATUS-B</th>\n",
       "      <th>MED_STATUS-C</th>\n",
       "      <th>MED_STATUS-D</th>\n",
       "      <th>CANCER_SEVERITY-0</th>\n",
       "      <th>CANCER_SEVERITY-1</th>\n",
       "      <th>CANCER_SEVERITY-2</th>\n",
       "    </tr>\n",
       "  </thead>\n",
       "  <tbody>\n",
       "    <tr>\n",
       "      <th>0</th>\n",
       "      <td>1</td>\n",
       "      <td>51.774304</td>\n",
       "      <td>95</td>\n",
       "      <td>0</td>\n",
       "      <td>1</td>\n",
       "      <td>0</td>\n",
       "      <td>0</td>\n",
       "      <td>0</td>\n",
       "      <td>1</td>\n",
       "      <td>1</td>\n",
       "      <td>0</td>\n",
       "      <td>0</td>\n",
       "    </tr>\n",
       "    <tr>\n",
       "      <th>1</th>\n",
       "      <td>2</td>\n",
       "      <td>53.284400</td>\n",
       "      <td>78</td>\n",
       "      <td>0</td>\n",
       "      <td>1</td>\n",
       "      <td>0</td>\n",
       "      <td>1</td>\n",
       "      <td>0</td>\n",
       "      <td>0</td>\n",
       "      <td>1</td>\n",
       "      <td>0</td>\n",
       "      <td>0</td>\n",
       "    </tr>\n",
       "    <tr>\n",
       "      <th>2</th>\n",
       "      <td>3</td>\n",
       "      <td>50.777864</td>\n",
       "      <td>74</td>\n",
       "      <td>1</td>\n",
       "      <td>0</td>\n",
       "      <td>0</td>\n",
       "      <td>1</td>\n",
       "      <td>0</td>\n",
       "      <td>0</td>\n",
       "      <td>0</td>\n",
       "      <td>1</td>\n",
       "      <td>0</td>\n",
       "    </tr>\n",
       "    <tr>\n",
       "      <th>3</th>\n",
       "      <td>4</td>\n",
       "      <td>47.253403</td>\n",
       "      <td>84</td>\n",
       "      <td>0</td>\n",
       "      <td>1</td>\n",
       "      <td>0</td>\n",
       "      <td>1</td>\n",
       "      <td>0</td>\n",
       "      <td>0</td>\n",
       "      <td>1</td>\n",
       "      <td>0</td>\n",
       "      <td>0</td>\n",
       "    </tr>\n",
       "    <tr>\n",
       "      <th>4</th>\n",
       "      <td>5</td>\n",
       "      <td>50.353262</td>\n",
       "      <td>87</td>\n",
       "      <td>1</td>\n",
       "      <td>0</td>\n",
       "      <td>0</td>\n",
       "      <td>0</td>\n",
       "      <td>1</td>\n",
       "      <td>0</td>\n",
       "      <td>1</td>\n",
       "      <td>0</td>\n",
       "      <td>0</td>\n",
       "    </tr>\n",
       "  </tbody>\n",
       "</table>\n",
       "</div>"
      ],
      "text/plain": [
       "   ID        AGE  HR  SEX-0  SEX-1  MED_STATUS-A  MED_STATUS-B  MED_STATUS-C  \\\n",
       "0   1  51.774304  95      0      1             0             0             0   \n",
       "1   2  53.284400  78      0      1             0             1             0   \n",
       "2   3  50.777864  74      1      0             0             1             0   \n",
       "3   4  47.253403  84      0      1             0             1             0   \n",
       "4   5  50.353262  87      1      0             0             0             1   \n",
       "\n",
       "   MED_STATUS-D  CANCER_SEVERITY-0  CANCER_SEVERITY-1  CANCER_SEVERITY-2  \n",
       "0             1                  1                  0                  0  \n",
       "1             0                  1                  0                  0  \n",
       "2             0                  0                  1                  0  \n",
       "3             0                  1                  0                  0  \n",
       "4             0                  1                  0                  0  "
      ]
     },
     "execution_count": 18,
     "metadata": {},
     "output_type": "execute_result"
    }
   ],
   "source": [
    "dummified_df = dummify(toy_data, columns=['SEX','MED_STATUS','CANCER_SEVERITY'], prefix_separator=\"-\")\n",
    "\n",
    "dummified_df.head()"
   ]
  },
  {
   "cell_type": "code",
   "execution_count": 19,
   "metadata": {},
   "outputs": [
    {
     "data": {
      "text/html": [
       "<div>\n",
       "<style scoped>\n",
       "    .dataframe tbody tr th:only-of-type {\n",
       "        vertical-align: middle;\n",
       "    }\n",
       "\n",
       "    .dataframe tbody tr th {\n",
       "        vertical-align: top;\n",
       "    }\n",
       "\n",
       "    .dataframe thead th {\n",
       "        text-align: right;\n",
       "    }\n",
       "</style>\n",
       "<table border=\"1\" class=\"dataframe\">\n",
       "  <thead>\n",
       "    <tr style=\"text-align: right;\">\n",
       "      <th></th>\n",
       "      <th>ID</th>\n",
       "      <th>AGE</th>\n",
       "      <th>HR</th>\n",
       "      <th>SEX</th>\n",
       "      <th>MED_STATUS</th>\n",
       "      <th>CANCER_SEVERITY</th>\n",
       "    </tr>\n",
       "  </thead>\n",
       "  <tbody>\n",
       "    <tr>\n",
       "      <th>0</th>\n",
       "      <td>1</td>\n",
       "      <td>51.774304</td>\n",
       "      <td>95</td>\n",
       "      <td>1</td>\n",
       "      <td>D</td>\n",
       "      <td>0</td>\n",
       "    </tr>\n",
       "    <tr>\n",
       "      <th>1</th>\n",
       "      <td>2</td>\n",
       "      <td>53.284400</td>\n",
       "      <td>78</td>\n",
       "      <td>1</td>\n",
       "      <td>B</td>\n",
       "      <td>0</td>\n",
       "    </tr>\n",
       "    <tr>\n",
       "      <th>2</th>\n",
       "      <td>3</td>\n",
       "      <td>50.777864</td>\n",
       "      <td>74</td>\n",
       "      <td>0</td>\n",
       "      <td>B</td>\n",
       "      <td>1</td>\n",
       "    </tr>\n",
       "    <tr>\n",
       "      <th>3</th>\n",
       "      <td>4</td>\n",
       "      <td>47.253403</td>\n",
       "      <td>84</td>\n",
       "      <td>1</td>\n",
       "      <td>B</td>\n",
       "      <td>0</td>\n",
       "    </tr>\n",
       "    <tr>\n",
       "      <th>4</th>\n",
       "      <td>5</td>\n",
       "      <td>50.353262</td>\n",
       "      <td>87</td>\n",
       "      <td>0</td>\n",
       "      <td>C</td>\n",
       "      <td>0</td>\n",
       "    </tr>\n",
       "  </tbody>\n",
       "</table>\n",
       "</div>"
      ],
      "text/plain": [
       "   ID        AGE  HR SEX MED_STATUS CANCER_SEVERITY\n",
       "0   1  51.774304  95   1          D               0\n",
       "1   2  53.284400  78   1          B               0\n",
       "2   3  50.777864  74   0          B               1\n",
       "3   4  47.253403  84   1          B               0\n",
       "4   5  50.353262  87   0          C               0"
      ]
     },
     "execution_count": 19,
     "metadata": {},
     "output_type": "execute_result"
    }
   ],
   "source": [
    "undummify(dummified_df, columns=['SEX','MED_STATUS','CANCER_SEVERITY'], prefix_separator=\"-\").head()"
   ]
  },
  {
   "cell_type": "markdown",
   "metadata": {},
   "source": [
    "We made the dummifing function and recovering function. Now, we will make the scaling function"
   ]
  },
  {
   "cell_type": "code",
   "execution_count": 22,
   "metadata": {},
   "outputs": [],
   "source": [
    "from sklearn.preprocessing import MinMaxScaler\n",
    "\n",
    "def do_scaling(data : pd.DataFrame, columns : list):\n",
    "    '''\n",
    "    scaling function for continous variable. \n",
    "    This function returns the scaled data and the scaler itself for future use.\n",
    "    data : the data you want to change\n",
    "    columns : continuous columns\n",
    "    '''\n",
    "    scaler = MinMaxScaler(feature_range=(-1,1))\n",
    "    not_scaling_columns = [cols for cols in data.columns if cols not in columns ]\n",
    "    data1 = data[not_scaling_columns].copy()\n",
    "    \n",
    "    scaler.fit(data[columns].copy())\n",
    "    scaled = scaler.transform(data[columns].copy())\n",
    "    scaled= pd.DataFrame(scaled, columns=columns)\n",
    "    \n",
    "    scaled_data = pd.concat([scaled,data1], axis=1)\n",
    "    return scaled_data, scaler\n",
    "\n",
    "\n",
    "def reverse_scaling(data : pd.DataFrame, columns : list, scaler : MinMaxScaler):\n",
    "    '''\n",
    "    reverse the scaled data to original form\n",
    "    data : scaled data\n",
    "    columns : continuous columns - should be the same as the original scaling process\n",
    "    scaler : Minmax scaler from do_scaling function\n",
    "    '''\n",
    "    excluded_cols = [col for col in data.columns if col not in columns]\n",
    "    \n",
    "    data1 = data[excluded_cols].copy()\n",
    "    inversed = scaler.inverse_transform(data[columns])\n",
    "    inversed = pd.DataFrame(inversed, columns=columns)\n",
    "    \n",
    "    reversed_data = pd.concat([data1, inversed], axis=1)\n",
    "    return reversed_data\n",
    "    \n"
   ]
  },
  {
   "cell_type": "code",
   "execution_count": 60,
   "metadata": {},
   "outputs": [],
   "source": [
    "scaled_df, scaler = do_scaling(toy_data,['AGE',\"HR\"])"
   ]
  }
 ],
 "metadata": {
  "interpreter": {
   "hash": "760d78efc602825e6ad27c6908d1a97ec4ff8733e8f2068a4bf4a48c7196717d"
  },
  "kernelspec": {
   "display_name": "Python 3.8.12 64-bit ('2022_multivariate_synthesis_simulation')",
   "language": "python",
   "name": "python3"
  },
  "language_info": {
   "codemirror_mode": {
    "name": "ipython",
    "version": 3
   },
   "file_extension": ".py",
   "mimetype": "text/x-python",
   "name": "python",
   "nbconvert_exporter": "python",
   "pygments_lexer": "ipython3",
   "version": "3.8.12"
  },
  "orig_nbformat": 4
 },
 "nbformat": 4,
 "nbformat_minor": 2
}
